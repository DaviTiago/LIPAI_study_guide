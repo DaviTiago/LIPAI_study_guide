{
 "cells": [
  {
   "cell_type": "code",
   "execution_count": null,
   "id": "8b80c1ee",
   "metadata": {},
   "outputs": [
    {
     "data": {
      "text/html": [
       "<div>\n",
       "<style scoped>\n",
       "    .dataframe tbody tr th:only-of-type {\n",
       "        vertical-align: middle;\n",
       "    }\n",
       "\n",
       "    .dataframe tbody tr th {\n",
       "        vertical-align: top;\n",
       "    }\n",
       "\n",
       "    .dataframe thead th {\n",
       "        text-align: right;\n",
       "    }\n",
       "</style>\n",
       "<table border=\"1\" class=\"dataframe\">\n",
       "  <thead>\n",
       "    <tr style=\"text-align: right;\">\n",
       "      <th></th>\n",
       "      <th>image_path</th>\n",
       "      <th>real_class</th>\n",
       "      <th>predicted_class</th>\n",
       "      <th>prob_benign</th>\n",
       "      <th>prob_malign</th>\n",
       "    </tr>\n",
       "  </thead>\n",
       "  <tbody>\n",
       "    <tr>\n",
       "      <th>0</th>\n",
       "      <td>image_001.jpg</td>\n",
       "      <td>malign</td>\n",
       "      <td>malign</td>\n",
       "      <td>0.031429</td>\n",
       "      <td>0.968571</td>\n",
       "    </tr>\n",
       "    <tr>\n",
       "      <th>1</th>\n",
       "      <td>image_002.jpg</td>\n",
       "      <td>benign</td>\n",
       "      <td>benign</td>\n",
       "      <td>0.636410</td>\n",
       "      <td>0.363590</td>\n",
       "    </tr>\n",
       "    <tr>\n",
       "      <th>2</th>\n",
       "      <td>image_003.jpg</td>\n",
       "      <td>malign</td>\n",
       "      <td>malign</td>\n",
       "      <td>0.314356</td>\n",
       "      <td>0.685644</td>\n",
       "    </tr>\n",
       "    <tr>\n",
       "      <th>3</th>\n",
       "      <td>image_004.jpg</td>\n",
       "      <td>benign</td>\n",
       "      <td>benign</td>\n",
       "      <td>0.508571</td>\n",
       "      <td>0.491429</td>\n",
       "    </tr>\n",
       "    <tr>\n",
       "      <th>4</th>\n",
       "      <td>image_005.jpg</td>\n",
       "      <td>benign</td>\n",
       "      <td>benign</td>\n",
       "      <td>0.907566</td>\n",
       "      <td>0.092434</td>\n",
       "    </tr>\n",
       "  </tbody>\n",
       "</table>\n",
       "</div>"
      ],
      "text/plain": [
       "      image_path real_class predicted_class  prob_benign  prob_malign\n",
       "0  image_001.jpg     malign          malign     0.031429     0.968571\n",
       "1  image_002.jpg     benign          benign     0.636410     0.363590\n",
       "2  image_003.jpg     malign          malign     0.314356     0.685644\n",
       "3  image_004.jpg     benign          benign     0.508571     0.491429\n",
       "4  image_005.jpg     benign          benign     0.907566     0.092434"
      ]
     },
     "execution_count": 1,
     "metadata": {},
     "output_type": "execute_result"
    }
   ],
   "source": [
    "import pandas as pd\n",
    "import os \n",
    "\n",
    "csv_path = os.path.join(os.getcwd(), '..', '..', 'classification_results_trial_0001.csv')\n",
    "df = pd.read_csv(csv_path, sep=',')\n",
    "\n",
    "df.head()"
   ]
  },
  {
   "cell_type": "markdown",
   "id": "e4551463",
   "metadata": {},
   "source": [
    "## 1.Quantas imagens do conjunto são \"benigno\" e \"maligno\"?"
   ]
  },
  {
   "cell_type": "code",
   "execution_count": 12,
   "id": "1b7383c3",
   "metadata": {},
   "outputs": [
    {
     "name": "stdout",
     "output_type": "stream",
     "text": [
      "Número de imagens benignas: 45\n",
      "Número de imagens malignas: 55\n",
      "real_class\n",
      "malign    55\n",
      "benign    45\n",
      "Name: count, dtype: int64\n"
     ]
    }
   ],
   "source": [
    "benigno = df[df['real_class'] == 'benign'].shape[0]\n",
    "maligno = df[df['real_class'] == 'malign'].shape[0]\n",
    "print(f'Número de imagens benignas: {benigno}')\n",
    "print(f'Número de imagens malignas: {maligno}')\n",
    "#OR\n",
    "contagem = df['real_class'].value_counts()\n",
    "print(contagem)"
   ]
  },
  {
   "cell_type": "markdown",
   "id": "d5564822",
   "metadata": {},
   "source": [
    "## 2.Identifique em quais imagens o modelo errou a predição;"
   ]
  },
  {
   "cell_type": "code",
   "execution_count": 22,
   "id": "77bb816b",
   "metadata": {},
   "outputs": [
    {
     "name": "stdout",
     "output_type": "stream",
     "text": [
      "       image_path real_class predicted_class  prob_benign  prob_malign\n",
      "20  image_021.jpg     malign          benign     0.807440     0.192560\n",
      "26  image_027.jpg     malign          benign     0.818015     0.181985\n",
      "27  image_028.jpg     malign          benign     0.860731     0.139269\n",
      "41  image_042.jpg     benign          malign     0.251782     0.748218\n",
      "46  image_047.jpg     malign          benign     0.609564     0.390436\n",
      "65  image_066.jpg     malign          benign     0.835302     0.164698\n",
      "67  image_068.jpg     benign          malign     0.186519     0.813481\n",
      "69  image_070.jpg     malign          benign     0.590893     0.409107\n",
      "70  image_071.jpg     malign          benign     0.677564     0.322436\n",
      "76  image_077.jpg     malign          benign     0.690938     0.309062\n",
      "80  image_081.jpg     benign          malign     0.341066     0.658934\n",
      "91  image_092.jpg     malign          benign     0.897216     0.102784\n"
     ]
    }
   ],
   "source": [
    "errors = df[df['predicted_class'] != df['real_class']]\n",
    "print(errors)"
   ]
  },
  {
   "cell_type": "markdown",
   "id": "560e80a6",
   "metadata": {},
   "source": [
    "## 3.Verifique se o modelo estava confiante mesmo quando errou a predição;"
   ]
  },
  {
   "cell_type": "code",
   "execution_count": 45,
   "id": "866d299b",
   "metadata": {},
   "outputs": [
    {
     "name": "stdout",
     "output_type": "stream",
     "text": [
      "       image_path real_class predicted_class  prob_benign  prob_malign\n",
      "20  image_021.jpg     malign          benign     0.807440     0.192560\n",
      "26  image_027.jpg     malign          benign     0.818015     0.181985\n",
      "27  image_028.jpg     malign          benign     0.860731     0.139269\n",
      "41  image_042.jpg     benign          malign     0.251782     0.748218\n",
      "46  image_047.jpg     malign          benign     0.609564     0.390436\n",
      "65  image_066.jpg     malign          benign     0.835302     0.164698\n",
      "67  image_068.jpg     benign          malign     0.186519     0.813481\n",
      "69  image_070.jpg     malign          benign     0.590893     0.409107\n",
      "70  image_071.jpg     malign          benign     0.677564     0.322436\n",
      "76  image_077.jpg     malign          benign     0.690938     0.309062\n",
      "80  image_081.jpg     benign          malign     0.341066     0.658934\n",
      "91  image_092.jpg     malign          benign     0.897216     0.102784\n"
     ]
    }
   ],
   "source": [
    "confiante_errors = errors[(errors['predicted_class']== 'malign') & (errors['prob_malign'] > 0.5) | (errors['predicted_class']== 'benign') & (errors['prob_benign'] > 0.5)]\n",
    "\n",
    "\n",
    "print(confiante_errors)"
   ]
  },
  {
   "cell_type": "markdown",
   "id": "489383b0",
   "metadata": {},
   "source": [
    "## 4. Calcule:"
   ]
  },
  {
   "cell_type": "markdown",
   "id": "0255b6a2",
   "metadata": {},
   "source": [
    "### a.Verdadeiros Positivos (TP) - real maligno, previsto maligno."
   ]
  },
  {
   "cell_type": "code",
   "execution_count": 34,
   "id": "337f93e8",
   "metadata": {},
   "outputs": [
    {
     "name": "stdout",
     "output_type": "stream",
     "text": [
      "Número de Verdadeiros Positivos (TP): 46\n"
     ]
    }
   ],
   "source": [
    "TP = df[(df['real_class'] == 'malign') & (df['predicted_class'] == 'malign')].shape[0] ## shape[0] conta o número de linhas\n",
    "\n",
    "print(f'Número de Verdadeiros Positivos (TP): {TP}')\n"
   ]
  },
  {
   "cell_type": "markdown",
   "id": "e616662c",
   "metadata": {},
   "source": [
    "### b. Verdadeiros Negativos (TN) - real benigno, previso benigno."
   ]
  },
  {
   "cell_type": "code",
   "execution_count": 35,
   "id": "3c5e395b",
   "metadata": {},
   "outputs": [
    {
     "name": "stdout",
     "output_type": "stream",
     "text": [
      "Número de Verdadeiros Negativos (TN): 42\n"
     ]
    }
   ],
   "source": [
    "TN = df[(df['real_class'] == 'benign') & (df['predicted_class'] == 'benign')].shape[0]\n",
    "print(f'Número de Verdadeiros Negativos (TN): {TN}')"
   ]
  },
  {
   "cell_type": "markdown",
   "id": "83b593ea",
   "metadata": {},
   "source": [
    "### c. Falsos Positivos (FP) - real benigno, previsto maligno."
   ]
  },
  {
   "cell_type": "code",
   "execution_count": 36,
   "id": "e5de595b",
   "metadata": {},
   "outputs": [
    {
     "name": "stdout",
     "output_type": "stream",
     "text": [
      "Número de Falsos Positivos (FP): 3\n"
     ]
    }
   ],
   "source": [
    "FP = df[(df['real_class'] == 'benign') & (df['predicted_class'] == 'malign')].shape[0]\n",
    "print(f'Número de Falsos Positivos (FP): {FP}')"
   ]
  },
  {
   "cell_type": "markdown",
   "id": "ba691992",
   "metadata": {},
   "source": [
    "### d. Falsos Negativos (FN) - real maligno, previsto benigno."
   ]
  },
  {
   "cell_type": "code",
   "execution_count": 47,
   "id": "204f08f6",
   "metadata": {},
   "outputs": [
    {
     "name": "stdout",
     "output_type": "stream",
     "text": [
      "Número de Falsos Negativos (FN): 9\n"
     ]
    }
   ],
   "source": [
    "FN = df[(df['real_class'] == 'malign') & (df['predicted_class'] == 'benign')].shape[0]\n",
    "print(f'Número de Falsos Negativos (FN): {FN}')"
   ]
  },
  {
   "cell_type": "markdown",
   "id": "c67b1d8f",
   "metadata": {},
   "source": [
    "## 5.Calcule:"
   ]
  },
  {
   "cell_type": "markdown",
   "id": "5c817a77",
   "metadata": {},
   "source": [
    "### a. Acurácia: (TP+TN)/(TP+TN+FP+FN)"
   ]
  },
  {
   "cell_type": "code",
   "execution_count": null,
   "id": "65e987ba",
   "metadata": {},
   "outputs": [
    {
     "name": "stdout",
     "output_type": "stream",
     "text": [
      "Acurácia: 0.88\n"
     ]
    }
   ],
   "source": [
    "accuracy = (TP + TN) / (TP + TN + FP + FN)\n",
    "print(f'Acurácia: {accuracy:.2f}')"
   ]
  },
  {
   "cell_type": "markdown",
   "id": "cdbb71dd",
   "metadata": {},
   "source": [
    "### b. Precisão (Precision): TP/(TP+FP) (relevante para os casos preditos como positivos)\n"
   ]
  },
  {
   "cell_type": "code",
   "execution_count": null,
   "id": "5846e37b",
   "metadata": {},
   "outputs": [
    {
     "name": "stdout",
     "output_type": "stream",
     "text": [
      "Precisão (Precision): 0.94\n"
     ]
    }
   ],
   "source": [
    "precision = TP / (TP + FP) if (TP + FP) > 0 else 0\n",
    "print(f'Precisão (Precision): {precision:.2f}')"
   ]
  },
  {
   "cell_type": "markdown",
   "id": "2ef4fb37",
   "metadata": {},
   "source": [
    "### c. Recall: TP/(TP+FN) (relevante para os casos reais positivos)\n"
   ]
  },
  {
   "cell_type": "code",
   "execution_count": 42,
   "id": "6c48dd3a",
   "metadata": {},
   "outputs": [
    {
     "name": "stdout",
     "output_type": "stream",
     "text": [
      "Recall: 0.84\n"
     ]
    }
   ],
   "source": [
    "recall = TP / (TP + FN) if (TP + FN) > 0 else 0\n",
    "print(f'Recall: {recall:.2f}')"
   ]
  },
  {
   "cell_type": "markdown",
   "id": "286a7fe2",
   "metadata": {},
   "source": [
    "### d. Especificidade: TN/(TN+FP) (relevante para os casos reais negativos)"
   ]
  },
  {
   "cell_type": "code",
   "execution_count": 44,
   "id": "fb28217f",
   "metadata": {},
   "outputs": [
    {
     "name": "stdout",
     "output_type": "stream",
     "text": [
      "Especificidade: 0.93\n"
     ]
    }
   ],
   "source": [
    "specificity = TN / (TN + FP) if (TN + FP) > 0 else 0\n",
    "print(f'Especificidade: {specificity:.2f}')"
   ]
  },
  {
   "cell_type": "markdown",
   "id": "041f6d55",
   "metadata": {},
   "source": [
    "## 6. Encontre as 5 imagens \"benigno\" com a menor probabilidade de serem \"benigno\" (prob_benign). O que isso pode indicar?"
   ]
  },
  {
   "cell_type": "code",
   "execution_count": 58,
   "id": "a1213c2b",
   "metadata": {},
   "outputs": [
    {
     "name": "stdout",
     "output_type": "stream",
     "text": [
      "       image_path real_class predicted_class  prob_benign  prob_malign\n",
      "67  image_068.jpg     benign          malign     0.186519     0.813481\n",
      "41  image_042.jpg     benign          malign     0.251782     0.748218\n",
      "80  image_081.jpg     benign          malign     0.341066     0.658934\n",
      "47  image_048.jpg     benign          benign     0.502679     0.497321\n",
      "3   image_004.jpg     benign          benign     0.508571     0.491429\n"
     ]
    }
   ],
   "source": [
    "benign_low_prob = df[df['real_class'] == 'benign'].sort_values(by='prob_benign').head()\n",
    "print(benign_low_prob)"
   ]
  },
  {
   "cell_type": "markdown",
   "id": "b300c065",
   "metadata": {},
   "source": [
    "## 7. Encontre as 5 imagens \"maligno\" com a maior probabilidade de serem \"benigno\" (prob_benign). O que isso pode indicar?"
   ]
  },
  {
   "cell_type": "code",
   "execution_count": 57,
   "id": "4779547d",
   "metadata": {},
   "outputs": [
    {
     "name": "stdout",
     "output_type": "stream",
     "text": [
      "       image_path real_class predicted_class  prob_benign  prob_malign\n",
      "91  image_092.jpg     malign          benign     0.897216     0.102784\n",
      "27  image_028.jpg     malign          benign     0.860731     0.139269\n",
      "65  image_066.jpg     malign          benign     0.835302     0.164698\n",
      "26  image_027.jpg     malign          benign     0.818015     0.181985\n",
      "20  image_021.jpg     malign          benign     0.807440     0.192560\n"
     ]
    }
   ],
   "source": [
    "malign_high_prob = df[df['real_class'] == 'malign'].sort_values(by='prob_benign', ascending=False).head()\n",
    "print(malign_high_prob)"
   ]
  }
 ],
 "metadata": {
  "kernelspec": {
   "display_name": ".venv",
   "language": "python",
   "name": "python3"
  },
  "language_info": {
   "codemirror_mode": {
    "name": "ipython",
    "version": 3
   },
   "file_extension": ".py",
   "mimetype": "text/x-python",
   "name": "python",
   "nbconvert_exporter": "python",
   "pygments_lexer": "ipython3",
   "version": "3.13.4"
  }
 },
 "nbformat": 4,
 "nbformat_minor": 5
}
