{
 "cells": [
  {
   "cell_type": "code",
   "execution_count": 1,
   "id": "8b80c1ee",
   "metadata": {},
   "outputs": [
    {
     "data": {
      "text/html": [
       "<div>\n",
       "<style scoped>\n",
       "    .dataframe tbody tr th:only-of-type {\n",
       "        vertical-align: middle;\n",
       "    }\n",
       "\n",
       "    .dataframe tbody tr th {\n",
       "        vertical-align: top;\n",
       "    }\n",
       "\n",
       "    .dataframe thead th {\n",
       "        text-align: right;\n",
       "    }\n",
       "</style>\n",
       "<table border=\"1\" class=\"dataframe\">\n",
       "  <thead>\n",
       "    <tr style=\"text-align: right;\">\n",
       "      <th></th>\n",
       "      <th>image_path</th>\n",
       "      <th>real_class</th>\n",
       "      <th>predicted_class</th>\n",
       "      <th>prob_benign</th>\n",
       "      <th>prob_malign</th>\n",
       "    </tr>\n",
       "  </thead>\n",
       "  <tbody>\n",
       "    <tr>\n",
       "      <th>0</th>\n",
       "      <td>image_001.jpg</td>\n",
       "      <td>malign</td>\n",
       "      <td>malign</td>\n",
       "      <td>0.031429</td>\n",
       "      <td>0.968571</td>\n",
       "    </tr>\n",
       "    <tr>\n",
       "      <th>1</th>\n",
       "      <td>image_002.jpg</td>\n",
       "      <td>benign</td>\n",
       "      <td>benign</td>\n",
       "      <td>0.636410</td>\n",
       "      <td>0.363590</td>\n",
       "    </tr>\n",
       "    <tr>\n",
       "      <th>2</th>\n",
       "      <td>image_003.jpg</td>\n",
       "      <td>malign</td>\n",
       "      <td>malign</td>\n",
       "      <td>0.314356</td>\n",
       "      <td>0.685644</td>\n",
       "    </tr>\n",
       "    <tr>\n",
       "      <th>3</th>\n",
       "      <td>image_004.jpg</td>\n",
       "      <td>benign</td>\n",
       "      <td>benign</td>\n",
       "      <td>0.508571</td>\n",
       "      <td>0.491429</td>\n",
       "    </tr>\n",
       "    <tr>\n",
       "      <th>4</th>\n",
       "      <td>image_005.jpg</td>\n",
       "      <td>benign</td>\n",
       "      <td>benign</td>\n",
       "      <td>0.907566</td>\n",
       "      <td>0.092434</td>\n",
       "    </tr>\n",
       "  </tbody>\n",
       "</table>\n",
       "</div>"
      ],
      "text/plain": [
       "      image_path real_class predicted_class  prob_benign  prob_malign\n",
       "0  image_001.jpg     malign          malign     0.031429     0.968571\n",
       "1  image_002.jpg     benign          benign     0.636410     0.363590\n",
       "2  image_003.jpg     malign          malign     0.314356     0.685644\n",
       "3  image_004.jpg     benign          benign     0.508571     0.491429\n",
       "4  image_005.jpg     benign          benign     0.907566     0.092434"
      ]
     },
     "execution_count": 1,
     "metadata": {},
     "output_type": "execute_result"
    }
   ],
   "source": [
    "import pandas as pd\n",
    "import os \n",
    "\n",
    "# Load the CSV file\n",
    "csv_path = os.path.join(os.getcwd(), '..', '..', 'classification_results_trial_0001.csv')\n",
    "df = pd.read_csv(csv_path, sep=',')\n",
    "\n",
    "# Display the first few rows of the DataFrame\n",
    "df.head()   \n",
    "\n"
   ]
  },
  {
   "cell_type": "markdown",
   "id": "e4551463",
   "metadata": {},
   "source": [
    "### 1.Quantas imagens do conjunto são \"benigno\" e \"maligno\"?"
   ]
  },
  {
   "cell_type": "code",
   "execution_count": 12,
   "id": "1b7383c3",
   "metadata": {},
   "outputs": [
    {
     "name": "stdout",
     "output_type": "stream",
     "text": [
      "Número de imagens benignas: 45\n",
      "Número de imagens malignas: 55\n",
      "real_class\n",
      "malign    55\n",
      "benign    45\n",
      "Name: count, dtype: int64\n"
     ]
    }
   ],
   "source": [
    "benigno = df[df['real_class'] == 'benign'].shape[0]\n",
    "maligno = df[df['real_class'] == 'malign'].shape[0]\n",
    "print(f'Número de imagens benignas: {benigno}')\n",
    "print(f'Número de imagens malignas: {maligno}')\n",
    "#OR\n",
    "contagem = df['real_class'].value_counts()\n",
    "print(contagem)"
   ]
  },
  {
   "cell_type": "code",
   "execution_count": null,
   "id": "866d299b",
   "metadata": {},
   "outputs": [],
   "source": []
  },
  {
   "cell_type": "code",
   "execution_count": null,
   "id": "204f08f6",
   "metadata": {},
   "outputs": [],
   "source": []
  }
 ],
 "metadata": {
  "kernelspec": {
   "display_name": ".venv",
   "language": "python",
   "name": "python3"
  },
  "language_info": {
   "codemirror_mode": {
    "name": "ipython",
    "version": 3
   },
   "file_extension": ".py",
   "mimetype": "text/x-python",
   "name": "python",
   "nbconvert_exporter": "python",
   "pygments_lexer": "ipython3",
   "version": "3.13.4"
  }
 },
 "nbformat": 4,
 "nbformat_minor": 5
}
