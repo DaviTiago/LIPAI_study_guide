{
  "cells": [
    {
      "cell_type": "markdown",
      "metadata": {
        "id": "I9Gp9O5G-SK3"
      },
      "source": [
        "[![Binder](https://mybinder.org/badge_logo.svg)](https://mybinder.org/v2/gh/storopoli/ciencia-de-dados/main?filepath=notebooks%2FAula_19_Redes_Neurais_Convolucionais_com_PyTorch.ipynb)\n",
        "<br>\n",
        "[![Open In Colab](https://colab.research.google.com/assets/colab-badge.svg)](https://colab.research.google.com/github/storopoli/ciencia-de-dados/blob/main/notebooks/Aula_19_Redes_Neurais_Convolucionais_com_PyTorch.ipynb)"
      ]
    },
    {
      "cell_type": "code",
      "execution_count": null,
      "metadata": {
        "colab": {
          "base_uri": "https://localhost:8080/",
          "height": 321
        },
        "id": "3T_cm61wHxCQ",
        "outputId": "6cf5bf64-7f20-4cc3-f753-aa684e0b7b98"
      },
      "outputs": [],
      "source": [
        "from google.colab import drive\n",
        "drive.mount('/content/drive', force_remount=True)"
      ]
    },
    {
      "cell_type": "markdown",
      "metadata": {
        "id": "FMHsnTTU-SK6"
      },
      "source": [
        "# Redes Neurais Convolucionais com PyTorch\n",
        "\n",
        "**Objetivos**: Aprender Redes Neurais Convolucionais (_Convolution Neural Networks_ - CNN) usando a biblioteca `PyTorch`.\n",
        "\n",
        "> Observação: Algumas imagens foram adaptadas de [Adventures in Machine Learning](https://adventuresinmachinelearning.com/convolutional-neural-networks-tutorial-in-pytorch/) (Licença CC-BY-SA)."
      ]
    },
    {
      "cell_type": "markdown",
      "metadata": {
        "id": "U2AGCZdB-SK7"
      },
      "source": [
        "## PyTorch\n",
        "\n",
        "[**PyTorch**](https://www.pytorch.org/) é uma biblioteca de código aberto para aprendizado de máquina aplicável a uma ampla variedade de tarefas. Foi criada pelo **Facebook** em 2016 e é a principal biblioteca para criação e treinamento de redes neurais artificiais. A API toda é escrita em Python mas é executada em C++ na CPU ou em CUDA/ROCM na GPU.\n",
        "\n",
        "No momento que eu escrevo esse tutorial (Abril de 2021), PyTorch está superando o TensorFlow (Google) em desempenho e adoção de uso. Isso acontece tanto na [academia](http://horace.io/pytorch-vs-tensorflow/) (mensurado pela adoção de artigos científicos nos principais encontros científicos de Aprendizagem Profunda e Aprendizagem de Máquina) quanto na [indústria](https://www.infoworld.com/article/3597904/why-enterprises-are-turning-from-tensorflow-to-pytorch.html) (mensurado pela adoção de grandes e renomadas empresas de tecnologia).\n",
        "\n",
        "### Atualização (Junho 2022):\n",
        "\n",
        "TensorFlow está morto, Vida Longa ao PyTorch: [Google lost the battle for machine learning to Meta, insiders say. Now it's betting the future of its own products on a new internal AI project.](https://www.businessinsider.com/facebook-pytorch-beat-google-tensorflow-jax-meta-ai-2022-6).\n",
        "\n",
        "> Now, under the shadow of PyTorch, Google has been quietly building out a machine learning framework, called JAX (at one point an acronym for \"Just After eXecution,\" but officially no longer stands for anything), that many see as the successor to TensorFlow.\n",
        "\n",
        "Meus comentários: JAX é mais um backend de _autodiff_ do que uma biblioteca de redes neurais.\n",
        "Ou seja tem um uso muito mais amplo que PyTorch.\n",
        "Por exemplo, como um amostrador Monte Carlo de correntes ou cadeias Markov (_Markov Chain Monte Carlo_ - MCMC)."
      ]
    },
    {
      "cell_type": "markdown",
      "metadata": {
        "id": "-Q_0t2eR-SK8"
      },
      "source": [
        "## Imagens e Filtros\n",
        "\n",
        "Todo dado estruturado e não-esturutado é representado como matrizes no computador.\n",
        "Veja o caso de imagens.\n",
        "Elas são literalmente matrizes multidimensionais.\n",
        "\n",
        "* Uma imagem colorida é uma Array de dimensão $X \\times Y \\times 3$:\n",
        "    * $X$ = quantidade de pixels no eixo horizontal\n",
        "    * $Y$ = quantidade de pixels no eixo vertical\n",
        "    * $3$ = são 3 canais de cores - **R**ed, **G**reen e **B**lue"
      ]
    },
    {
      "cell_type": "markdown",
      "metadata": {
        "id": "u0hVbiK0-SK9"
      },
      "source": [
        "<img src=\"https://github.com/storopoli/ciencia-de-dados/blob/main/notebooks/images/images_as_matrix.png?raw=1\" alt=\"Row vs Cols\" style=\"width: 500px;\"/>"
      ]
    },
    {
      "cell_type": "markdown",
      "metadata": {
        "id": "jZXmZDjJ-SK-"
      },
      "source": [
        "#### Convoluções\n",
        "\n",
        "Em matemática **[convolução](https://pt.wikipedia.org/wiki/Convolu%C3%A7%C3%A3o) é um operador linear** que, a partir de **duas funções dadas**, **resulta numa terceira que mede a soma do produto dessas funções ao longo da região** subentendida pela superposição delas em função do deslocamento existente entre elas.\n",
        "\n",
        "A notação para a convolução de $f$ e $g$ é $f*g$. Ela é definida como a integral do produto de uma das funções por uma cópia deslocada e invertida da outra; a função resultante $h$ depende do valor do deslocamento. Se $x$ for a variável independente e $u$, o deslocamento, a fórmula pode ser escrita como:\n",
        "\n",
        "$$(f * g) (x) = h(x) = \\int_{-\\infty}^{\\infty} f(u) \\cdot g(x-u) du$$\n",
        "\n",
        "Existe ainda uma definição de **convolução para funções de domínio discreto**, dada por\n",
        "\n",
        "$$(f * g) (k) = h(k)= \\sum_{j=0}^{k} f(j) \\cdot g(k-j)$$"
      ]
    },
    {
      "cell_type": "markdown",
      "metadata": {
        "id": "nLBHjD9I-SK-"
      },
      "source": [
        "<img src=\"https://github.com/storopoli/ciencia-de-dados/blob/main/notebooks/images/convolution.gif?raw=1\" alt=\"Row vs Cols\" style=\"width: 400px;\"/>"
      ]
    },
    {
      "cell_type": "markdown",
      "metadata": {
        "id": "1BpJOX0z-SK_"
      },
      "source": [
        "Inclusive, convoluções, onde a \"máquina\" aprende os filtros (os números que vão dentro da matriz), é a base das redes neurais que detectam objetos!\n",
        "\n",
        "<img src=\"https://github.com/storopoli/ciencia-de-dados/blob/main/notebooks/images/deeplearning_convolutions.gif?raw=1\" alt=\"Deep Learning Convolutions\" style=\"width: 600px;\"/>"
      ]
    },
    {
      "cell_type": "markdown",
      "metadata": {
        "id": "TzcPRvCk-SLA",
        "tags": []
      },
      "source": [
        "## O que é uma Rede Neural Artificial?\n",
        "\n",
        "Redes neurais artificiais (RNAs) são modelos computacionais inspirados pelo sistema nervoso central (em particular o cérebro) que são capazes de realizar o aprendizado de máquina bem como o reconhecimento de padrões. Redes neurais artificiais geralmente são apresentadas como sistemas de \"neurônios interconectados, que podem computar valores de entradas\", simulando o comportamento de redes neurais biológicas."
      ]
    },
    {
      "cell_type": "markdown",
      "metadata": {
        "id": "k-kXeh5r-SLA"
      },
      "source": [
        "<img src=\"https://github.com/storopoli/ciencia-de-dados/blob/main/notebooks/images/redes_neurais.jpeg?raw=1\" alt=\"redes neurais\" style=\"width: 500px;\"/>"
      ]
    },
    {
      "cell_type": "markdown",
      "metadata": {
        "id": "GJGFc78--SLB"
      },
      "source": [
        "## Como a rede neural aprende?\n",
        "\n",
        "Em cada neurônio há uma função de ativação (*activation function*) que processa uma combinação linear entre _inputs_ e pesos sinápticos, gerando assim um sinal de saída.\n",
        "\n",
        "A informação flui da *input layer* para as *hidden layers* e por fim para a *output layer*. Nesse fluxo os inputs de dados da *input layer* são alimentados para os neurônios das *hidden layers* que por fim alimentam o neurônio final da *output layer*.\n",
        "\n",
        "A primeira passada de informação (propagação) pela rede é geralmente feita com parâmetros aleatórios para as funções de ativação dos neurônios.\n",
        "\n",
        "Ao realizar a propagação, chamada de *feed forward*, temos sinais de saídas nos neurônios da output layer.\n",
        "\n",
        "No fim da propagação, a função custo (uma métrica de erro) é calculada e o modelo então ajusta os parâmetros dos neurônios na direção de um menor custo (por meio do gradiente - derivada multivariada).\n",
        "\n",
        "Assim uma nova propagação é gerada e a numa nova função custo e calculada. Assim como é realizado a atualização dos parâmetros dos neurônios.\n",
        "\n",
        "O nome desse algoritmo é **Retro-propagação** (*Backpropagation*). E cada vez que ele é executado denomina-se como época (*epoch*). E quandos as épocas estabelecidas se encerram, a rede neural encerra o seu treinamento/aprendizagem."
      ]
    },
    {
      "cell_type": "markdown",
      "metadata": {
        "id": "03X0IdRk-SLB"
      },
      "source": [
        "<img src=\"https://github.com/storopoli/ciencia-de-dados/blob/main/notebooks/images/backpropagation.gif?raw=1\" alt=\"backpropagation\" style=\"width: 500px;\"/>"
      ]
    },
    {
      "cell_type": "markdown",
      "metadata": {
        "id": "W4F1O4-W-SLB"
      },
      "source": [
        "#### Por que Redes Neurais Convolucionais?\n",
        "As Redes Neurais Convolucionais têm a capacidade de **extrair automaticamente características dos padrões a serem aprendidos** (por meio das camadas de convolução), tarefa que necessariamente tem que ser implementada separadamente quando se emprega uma Rede Neural padrão (\"vanilla\", _**M**ulti**l**ayer **P**erceptron_ - MLP) ou um outro classificador convencional (por exemplo, _**S**upport **V**ector **M**achine_ - SVM)\n"
      ]
    },
    {
      "cell_type": "markdown",
      "metadata": {
        "id": "y_v23Nho-SLC"
      },
      "source": [
        "#### O que muda numa Rede Neural Convolucional?\n",
        "\n",
        "**Nada**.\n",
        "\n",
        "Apenas que a rede neural possui um maior número de parâmetros pois precisa aprender todos os parâmetros dos filtros e convoluções que ocorrem em algumas de suas camadas internas."
      ]
    },
    {
      "cell_type": "markdown",
      "metadata": {
        "id": "-neNjin7-SLC"
      },
      "source": [
        "### Camadas Necessárias para Convolução\n",
        "\n",
        "As redes neurais convolucionais se distinguem de outras redes neurais por seu desempenho superior com dados de imagem, voz ou áudio. Elas têm três tipos principais de camadas, que são:\n",
        "\n",
        "* Camada Convolucional\n",
        "* Camada de _Pooling_\n",
        "* Camada de Neurônios Totalmente Conectados (também chamado de _Fully Connected_ ou _Dense_)\n"
      ]
    },
    {
      "cell_type": "markdown",
      "metadata": {
        "id": "VXQDD0Ag-SLC"
      },
      "source": [
        "#### Camadas de Convolução (_Convolution Layers_)\n",
        "\n",
        "Isto é uma camada para uma \"janela\" ou \"filtro\" deslizante que passamos pela imagem.\n",
        "Essa \"janela\" aplica um certo peso aos neurônios (pixels) adjacentes de uma certa vizinhança de pixels.\n",
        "\n",
        "Filtro $2 \\times 2$ com todos os pesos igual a $0.5$:\n",
        "\n",
        "<img src=\"https://github.com/storopoli/ciencia-de-dados/blob/main/notebooks/images/moving-filter.webp?raw=1\" alt=\"filtro convolução 2x2\" style=\"width: 500px;\"/>"
      ]
    },
    {
      "cell_type": "markdown",
      "metadata": {
        "id": "i6xHB285-SLC"
      },
      "source": [
        "$$\\begin{align}\n",
        " out_1 &= 0.5 in_1 + 0.5 in_2 + 0.5 in_6 + 0.5 in_7 \\\\\n",
        " &= 0.5 \\times 2.0 + 0.5 \\times 3.0 + 0.5 \\times 2.0 + 0.5 \\times 1.5  \\\\\n",
        " &= 4.25 \\\\\n",
        " out_2 &= 0.5 in_2 + 0.5 in_3 + 0.5 in_7 + 0.5 in_8 \\\\\n",
        " &= 0.5 \\times 3.0 + 0.5 \\times 0.0 + 0.5 \\times 1.5 + 0.5 \\times 0.5  \\\\\n",
        " &= 2.5 \\\\\n",
        " \\end{align}$$"
      ]
    },
    {
      "cell_type": "markdown",
      "metadata": {
        "id": "dEuV9cJD-SLD"
      },
      "source": [
        "Na rede neural este filtro funciona assim quando compararmos com relação a camada anterior (_inputs_):\n",
        "\n",
        "<img src=\"https://github.com/storopoli/ciencia-de-dados/blob/main/notebooks/images/moving-filter-node-diagram.webp?raw=1\" alt=\"filtro convolução 2x2\" style=\"width: 300px;\"/>"
      ]
    },
    {
      "cell_type": "markdown",
      "metadata": {
        "id": "NX8NqBcC-SLD"
      },
      "source": [
        "#### Camadas de _Pooling_\n",
        "\n",
        "Uma outra técnica de \"janela\" ou \"filtro\" deslizante, mas ao invés de aplicar pesos, aplica uma função estatística sobre os conteúdos da sua \"janela\".\n",
        "\n",
        "A função estatística mais comum é o máximo `max()`.\n",
        "Essa é chamada de _max pooling_.\n",
        "\n",
        "##### Duas vantagens:\n",
        "\n",
        "- Reduz o número de parâmetros do modelo por um processo chamado _down-sampling_\n",
        "- Faz com que a detecção de atributos seja mais robusta à mudanças na orientação do objeto e mudanças de escalas\n",
        "\n",
        "_Max pooling_ com _padding_:\n",
        "\n",
        "<img src=\"https://github.com/storopoli/ciencia-de-dados/blob/main/notebooks/images/max-pooling.webp?raw=1\" alt=\"Max Pooling\" style=\"width: 500px;\"/>"
      ]
    },
    {
      "cell_type": "markdown",
      "metadata": {
        "id": "hczybpeM-SLD"
      },
      "source": [
        "#### Juntanto todas as camadas\n",
        "\n",
        "<img src=\"https://github.com/storopoli/ciencia-de-dados/blob/main/notebooks/images/typical_cnn.webp?raw=1\" alt=\"Rede Neural Convolucional Típica\" style=\"width: 500px;\"/>"
      ]
    },
    {
      "cell_type": "markdown",
      "metadata": {
        "id": "NpFoyiVZ-SLD"
      },
      "source": [
        "### Estruturação dos módulos de PyTorch\n",
        "\n",
        "```python\n",
        "import torch\n",
        "```\n",
        "* [`torch.Tensor`](https://pytorch.org/docs/stable/tensors.html) - Tensores (arrays N-D)\n",
        "* [`torch.nn`](https://pytorch.org/docs/stable/nn.html) - Redes Neurais (_**N**eural **N**etworks_)\n",
        "* [`torch.optim`](https://pytorch.org/docs/stable/optim.html) - Otimização (_**Optim**ization_)\n",
        "* [`torch.data`](https://pytorch.org/docs/stable/data.html) - *Datasets* e Ferramentas de Streaming de Dados\n",
        "* [`torch.autograd`](https://pytorch.org/docs/stable/autograd.html) - Diferenciação Automática (_**Auto**matic Differentiation_)\n",
        "* [`torch.vision`](https://pytorch.org/docs/stable/torchvision/index.html) - Ferramentas de Manipulação de Imagens e Visão Computacional\n",
        "* [`torch.audio`](https://pytorch.org/audio/stable/index.html) - Ferramentas de Manipulação de Áudio\n",
        "* [`torch.jit`](https://pytorch.org/docs/stable/jit.html) - Compilação _**j**ust-**i**n-**t**ime_ de modelos PyTorch em binários\n"
      ]
    },
    {
      "cell_type": "markdown",
      "metadata": {
        "id": "6RI1U8Hz-SLE"
      },
      "source": [
        "### `torch.Tensor`\n",
        "\n",
        "* `NumPy` - `np.ndarray`\n",
        "* `pandas` - `pd.Series` e `pd.DataFrame`\n",
        "* `PyTorch` - `torch.Tensor`"
      ]
    },
    {
      "cell_type": "markdown",
      "metadata": {
        "id": "7nMER8Dd-SLE"
      },
      "source": [
        "## Exemplo com o [MNIST](https://en.wikipedia.org/wiki/MNIST_database)\n",
        "\n",
        "O dataset **MNIST** (_**M**odified **N**ational **I**nstitute of **S**tandards and **T**echnology_) é um clássico de Deep Learning. São imagens preto e branco de dígitos de 0 a 9 de formato 28x28 pixels (784 pixels)\n",
        "\n",
        "Contém 60.000 imagens de treino e 10.000 de teste e é um padrão de benchmark de modelos (acho que \"foi\", não é tão usado assim mais)\n"
      ]
    },
    {
      "cell_type": "markdown",
      "metadata": {
        "id": "c131otwc-SLE"
      },
      "source": [
        "<img src=\"https://github.com/storopoli/ciencia-de-dados/blob/main/notebooks/images/MNIST.png?raw=1\" alt=\"MNIST\" style=\"width: 500px;\"/>"
      ]
    },
    {
      "cell_type": "markdown",
      "metadata": {
        "id": "JUQEtlGh-SLE"
      },
      "source": [
        "O pacote `torchvision` do `PyTorch` tem integrado já o dataset MNIST:"
      ]
    },
    {
      "cell_type": "code",
      "execution_count": 22,
      "metadata": {
        "id": "7sxBO3EQ-SLF"
      },
      "outputs": [],
      "source": [
        "import torchvision\n",
        "from torchvision import transforms\n",
        "\n",
        "# MNIST dataset\n",
        "root_path = '/content/drive/MyDrive/Colab Notebooks/Downloads' # mude isso no Colab se necessário\n",
        "\n",
        "# Pequena transformação para tensores e normalizando o tamanho\n",
        "trans = transforms.Compose([transforms.ToTensor(), transforms.Normalize((0.1307,), (0.3081,))])\n",
        "\n",
        "# Train/Test Datasets\n",
        "full_train_dataset = torchvision.datasets.MNIST(root=root_path, train=True, transform=trans, download=True)\n",
        "test_dataset = torchvision.datasets.MNIST(root=root_path, train=False, transform=trans)"
      ]
    },
    {
      "cell_type": "code",
      "execution_count": 23,
      "metadata": {
        "colab": {
          "base_uri": "https://localhost:8080/"
        },
        "id": "5MqPA3Fh-SLF",
        "outputId": "98dfa228-66aa-4d8b-cd4d-51f0b065d1c7"
      },
      "outputs": [
        {
          "data": {
            "text/plain": [
              "Dataset MNIST\n",
              "    Number of datapoints: 60000\n",
              "    Root location: /content/drive/MyDrive/Colab Notebooks/Downloads\n",
              "    Split: Train\n",
              "    StandardTransform\n",
              "Transform: Compose(\n",
              "               ToTensor()\n",
              "               Normalize(mean=(0.1307,), std=(0.3081,))\n",
              "           )"
            ]
          },
          "execution_count": 23,
          "metadata": {},
          "output_type": "execute_result"
        }
      ],
      "source": [
        "full_train_dataset"
      ]
    },
    {
      "cell_type": "markdown",
      "metadata": {
        "id": "G7jYAAVEVz3T"
      },
      "source": [
        "### 2. Divisão em Treino e Validação\n",
        "\n",
        "Usamos `random_split` para dividir o `full_train_dataset` em um conjunto de treino e um de validação. Uma divisão comum é 80% para treino e 20% para validação."
      ]
    },
    {
      "cell_type": "code",
      "execution_count": 24,
      "metadata": {
        "colab": {
          "base_uri": "https://localhost:8080/"
        },
        "id": "XXrXM6LMVwO1",
        "outputId": "69c75892-ad7f-4422-a9bb-01e5cf1bff7c"
      },
      "outputs": [
        {
          "name": "stdout",
          "output_type": "stream",
          "text": [
            "Tamanho do dataset de treino: 48000\n",
            "Tamanho do dataset de validação: 12000\n",
            "Tamanho do dataset de teste: 10000\n"
          ]
        }
      ],
      "source": [
        "from torch.utils.data import random_split\n",
        "# Definir os tamanhos para treino e validação\n",
        "train_size = int(0.8 * len(full_train_dataset))\n",
        "val_size = len(full_train_dataset) - train_size\n",
        "\n",
        "# Dividir o dataset\n",
        "train_dataset, val_dataset = random_split(\n",
        "    full_train_dataset, [train_size, val_size])\n",
        "\n",
        "print(f\"Tamanho do dataset de treino: {len(train_dataset)}\")\n",
        "print(f\"Tamanho do dataset de validação: {len(val_dataset)}\")\n",
        "print(f\"Tamanho do dataset de teste: {len(test_dataset)}\")"
      ]
    },
    {
      "cell_type": "markdown",
      "metadata": {
        "id": "bpmWtT1D-SLH"
      },
      "source": [
        "Para controlar como que os dados são inseridos no modelo e, logo, o Batch Size é preciso implementar um [`torch.utils.data.DataLoader()`](https://pytorch.org/docs/stable/data.html#torch.utils.data.DataLoader).\n",
        "\n",
        "Argumentos do `DataLoader()`:\n",
        "\n",
        "* **`dataset`**: um `Dataset` PyTorch\n",
        "    * tem [vários tipos](https://pytorch.org/docs/stable/data.html)\n",
        "    * no nosso exemplo vou usar um simples [`TensorDataset`](https://pytorch.org/docs/stable/_modules/torch/utils/data/dataset.html#TensorDataset) que é um wrapper de `np.ndarray` e `pd.Series` para `torch.Tensor`)\n",
        "* **batch_size**: `int` - tamanho do Batch Size, padrão é 1\n",
        "* **shuffle**: `bool` - se vai embaralhar os dados antes de enviar em batches ao modelo, padrão é `False`. Recomendo usar `shuffle=True`"
      ]
    },
    {
      "cell_type": "code",
      "execution_count": 25,
      "metadata": {
        "id": "hU4hP8SQ-SLH"
      },
      "outputs": [],
      "source": [
        "from torch.utils.data import DataLoader\n",
        "\n",
        "batch_size=32\n",
        "\n",
        "train_loader = DataLoader(dataset=train_dataset, batch_size=batch_size, shuffle=True)\n",
        "val_loader = DataLoader(dataset=val_dataset,\n",
        "                        batch_size=batch_size, shuffle=False)\n",
        "test_loader = DataLoader(dataset=test_dataset, batch_size=batch_size, shuffle=False)"
      ]
    },
    {
      "cell_type": "markdown",
      "metadata": {
        "id": "A1UdhHjw-SLI"
      },
      "source": [
        "#### [Camadas de Convolução (_Convolution Layers_)](https://pytorch.org/docs/stable/nn.html#convolution-layers)\n",
        "\n",
        "* [`nn.Conv1d`](https://pytorch.org/docs/stable/generated/torch.nn.Conv1d.html#torch.nn.Conv3d): convolução 1-D.\n",
        "* [`nn.Conv2d`](https://pytorch.org/docs/stable/generated/torch.nn.Conv2d.html): convolução 2-D.\n",
        "* [`nn.Conv3d`](https://pytorch.org/docs/stable/generated/torch.nn.Conv3d.html): convolução 3-D.\n",
        "\n",
        "#### [Camadas de _Pooling_](https://pytorch.org/docs/stable/nn.html#pooling-layers)\n",
        "\n",
        "* [`nn.MaxPool1d`](https://pytorch.org/docs/stable/generated/torch.nn.MaxPool1d.htm): 1-D _max pooling_.\n",
        "* [`nn.MaxPool2d`](https://pytorch.org/docs/stable/generated/torch.nn.MaxPool2d.htm): 2-D _max pooling_.\n",
        "* [`nn.MaxPool3d`](https://pytorch.org/docs/stable/generated/torch.nn.MaxPool3d.htm): 3-D _max pooling_."
      ]
    },
    {
      "cell_type": "markdown",
      "metadata": {
        "id": "kW3TyatP-SLI"
      },
      "source": [
        "### Qual a rede neural convolucional que vamos criar para o MNIST?\n",
        "\n",
        "<img src=\"https://github.com/storopoli/ciencia-de-dados/blob/main/notebooks/images/MNIST-CNN.webp?raw=1\" alt=\"MNIST CNN\" style=\"width: 700px;\"/>"
      ]
    },
    {
      "cell_type": "markdown",
      "metadata": {
        "id": "b7i1B4eN-SLI"
      },
      "source": [
        "## Como construir sua rede neural convolucional no PyTorch\n",
        "\n",
        "Construir redes neurais com o **PyTorch** é fácil.\n",
        "\n",
        "Temos que criar uma Rede Neural a partir de uma classe [`nn.Module()`](https://pytorch.org/docs/stable/generated/torch.nn.Module.html?highlight=module#torch.nn.Module) e criar um construtor com o método `__init__()` e implementar todas as layers e propagações desejadas com o método `forward()`."
      ]
    },
    {
      "cell_type": "code",
      "execution_count": 26,
      "metadata": {
        "id": "ytY7HW3W-SLJ"
      },
      "outputs": [],
      "source": [
        "import torch.nn as nn"
      ]
    },
    {
      "cell_type": "code",
      "execution_count": 27,
      "metadata": {
        "colab": {
          "base_uri": "https://localhost:8080/"
        },
        "id": "YVCPQnoQ-SLJ",
        "outputId": "3cf85774-b4a1-4448-93e8-fbd0c4a9e333"
      },
      "outputs": [
        {
          "name": "stdout",
          "output_type": "stream",
          "text": [
            "ConvNet(\n",
            "  (layer1): Sequential(\n",
            "    (0): Conv2d(1, 32, kernel_size=(5, 5), stride=(1, 1), padding=(2, 2))\n",
            "    (1): ReLU()\n",
            "    (2): MaxPool2d(kernel_size=2, stride=2, padding=0, dilation=1, ceil_mode=False)\n",
            "  )\n",
            "  (layer2): Sequential(\n",
            "    (0): Conv2d(32, 64, kernel_size=(5, 5), stride=(1, 1), padding=(2, 2))\n",
            "    (1): ReLU()\n",
            "    (2): MaxPool2d(kernel_size=2, stride=2, padding=0, dilation=1, ceil_mode=False)\n",
            "  )\n",
            "  (fc1): Sequential(\n",
            "    (0): Linear(in_features=3136, out_features=1000, bias=True)\n",
            "    (1): ReLU()\n",
            "  )\n",
            "  (fc2): Linear(in_features=1000, out_features=10, bias=True)\n",
            ")\n"
          ]
        }
      ],
      "source": [
        "class ConvNet(nn.Module):\n",
        "    def __init__(self):\n",
        "        super(ConvNet, self).__init__()\n",
        "        self.layer1 = nn.Sequential(\n",
        "            nn.Conv2d(1, 32, kernel_size=5, stride=1, padding=2),\n",
        "            nn.ReLU(),\n",
        "            nn.MaxPool2d(kernel_size=2, stride=2))\n",
        "        self.layer2 = nn.Sequential(\n",
        "            nn.Conv2d(32, 64, kernel_size=5, stride=1, padding=2),\n",
        "            nn.ReLU(),\n",
        "            nn.MaxPool2d(kernel_size=2, stride=2))\n",
        "        self.fc1 = nn.Sequential(\n",
        "            nn.Linear(7 * 7 * 64, 1000),\n",
        "            nn.ReLU())\n",
        "        self.fc2 = nn.Linear(1000, 10)\n",
        "\n",
        "    def forward(self, x):\n",
        "        out = self.layer1(x)\n",
        "        out = self.layer2(out)\n",
        "        out = out.reshape(out.size(0), -1)\n",
        "        out = self.fc1(out)\n",
        "        out = self.fc2(out)\n",
        "        return out\n",
        "\n",
        "# Instancia o Model()\n",
        "model = ConvNet()\n",
        "\n",
        "print(model)"
      ]
    },
    {
      "cell_type": "markdown",
      "metadata": {
        "id": "HQ5rmnHN-SLJ"
      },
      "source": [
        "Quantos paramêtros temos?"
      ]
    },
    {
      "cell_type": "code",
      "execution_count": 28,
      "metadata": {
        "colab": {
          "base_uri": "https://localhost:8080/"
        },
        "id": "lRT-n0bF-SLJ",
        "outputId": "038a759c-e6f9-4612-f9ce-0873f52f7e17"
      },
      "outputs": [
        {
          "data": {
            "text/plain": [
              "3199106"
            ]
          },
          "execution_count": 28,
          "metadata": {},
          "output_type": "execute_result"
        }
      ],
      "source": [
        "def count_parameters(model):\n",
        "    return sum(p.numel() for p in model.parameters() if p.requires_grad)\n",
        "\n",
        "count_parameters(model)"
      ]
    },
    {
      "cell_type": "markdown",
      "metadata": {
        "id": "Je9vIDk6-SLK"
      },
      "source": [
        "## Como treinar sua rede neural no PyTorch\n",
        "\n",
        "Uma vez especificado e instanciado o modelo, podemos manipulá-lo de maneira dinâmica.\n",
        "Escolhemos a função custo (`loss_fn`) como `nn.CrossEntropyLoss()` e também a taxa de aprendizagem $\\eta$ em `1e-6` e a quantidade de épocas a serem treinadas (`epochs`):\n",
        "\n",
        "```python\n",
        "model = Sua_rede_neural()\n",
        "loss_fn = nn.CrossEntropyLoss()\n",
        "learning_rate = 1e-6\n",
        "epochs = 100\n",
        "\n",
        "# Instânciar o Otimizador Adam\n",
        "optimizer = torch.optim.Adam(model.parameters(), lr=learning_rate)\n",
        "\n",
        "# For-loop de treino\n",
        "for epoch in range(epochs): # para cada época\n",
        "    for (images, labels) in train_loader: # para cada batch\n",
        "        # Gera a propagação (feed forward)\n",
        "        outputs = model(images)\n",
        "        \n",
        "        # Calcula a função-custo\n",
        "        loss = loss_fn(outputs, labels)\n",
        "        \n",
        "        # Retro-propagação (Backprop) e a otimização com Adam\n",
        "        optimizer.zero_grad()\n",
        "        loss.backward()\n",
        "        optimizer.step()\n",
        "```"
      ]
    },
    {
      "cell_type": "code",
      "execution_count": 29,
      "metadata": {
        "id": "-DPjqWxz-SLK"
      },
      "outputs": [],
      "source": [
        "from torch.optim import Adam\n",
        "\n",
        "# Hiperparâmetros\n",
        "loss_fn = nn.CrossEntropyLoss()\n",
        "learning_rate = 0.001\n",
        "epochs = 6\n",
        "\n",
        "# Instânciar o Otimizador Adam\n",
        "optimizer = Adam(model.parameters(), lr=learning_rate)"
      ]
    },
    {
      "cell_type": "markdown",
      "metadata": {
        "id": "yMP8O1Gd-SLS"
      },
      "source": [
        "### OBSERVAÇÃO\n",
        "\n",
        "Esta rede neural possui muitos parâmetros.\n",
        "Aproximadamente 3 milhões e 200 mil paramêtros!\n",
        "Não tente rodar isso sem ser usando uma GPU!\n",
        "O Google Colab te dá uma GPU de graça.\n",
        "Clique no botão abaixo para abrir este notebook no Google Colab.\n",
        "Não esqueça de trocar sua `Runtime` de `None` para `GPU`.\n",
        "\n",
        "[![Open In Colab](https://colab.research.google.com/assets/colab-badge.svg)](https://colab.research.google.com/github/storopoli/ciencia-de-dados/blob/main/notebooks/Aula_19_Redes_Neurais_Convolucionais_com_PyTorch.ipynb)"
      ]
    },
    {
      "cell_type": "code",
      "execution_count": 31,
      "metadata": {
        "colab": {
          "base_uri": "https://localhost:8080/"
        },
        "id": "33zvBSBi-SLS",
        "outputId": "cbb7599e-3f26-428e-af57-ed87fbb04cab"
      },
      "outputs": [
        {
          "data": {
            "text/plain": [
              "True"
            ]
          },
          "execution_count": 31,
          "metadata": {},
          "output_type": "execute_result"
        }
      ],
      "source": [
        "# Isto tem que retornar True\n",
        "import torch\n",
        "torch.cuda.is_available()"
      ]
    },
    {
      "cell_type": "code",
      "execution_count": 32,
      "metadata": {
        "colab": {
          "base_uri": "https://localhost:8080/",
          "height": 35
        },
        "id": "SbfnAwo2-SLT",
        "outputId": "520b5a87-9e43-45fc-8273-aea31c1e97a4"
      },
      "outputs": [
        {
          "data": {
            "application/vnd.google.colaboratory.intrinsic+json": {
              "type": "string"
            },
            "text/plain": [
              "'Tesla T4'"
            ]
          },
          "execution_count": 32,
          "metadata": {},
          "output_type": "execute_result"
        }
      ],
      "source": [
        "# Sua GPU\n",
        "torch.cuda.get_device_name()"
      ]
    },
    {
      "cell_type": "markdown",
      "metadata": {
        "id": "aA8Hwos-fYkm"
      },
      "source": [
        "### Enviar Modelo para GPU (se disponível) EX:1"
      ]
    },
    {
      "cell_type": "code",
      "execution_count": 33,
      "metadata": {
        "colab": {
          "base_uri": "https://localhost:8080/"
        },
        "id": "QoMnuTYXff7M",
        "outputId": "f9b41882-bf29-4866-a73e-d4af69700e00"
      },
      "outputs": [
        {
          "name": "stdout",
          "output_type": "stream",
          "text": [
            "Usando o dispositivo: cuda\n"
          ]
        }
      ],
      "source": [
        "from torch import device\n",
        "\n",
        "\n",
        "device = torch.device('cuda' if torch.cuda.is_available() else 'cpu')\n",
        "print(f'Usando o dispositivo: {device}')\n"
      ]
    },
    {
      "cell_type": "code",
      "execution_count": 34,
      "metadata": {
        "colab": {
          "base_uri": "https://localhost:8080/"
        },
        "id": "MbWQ7Hn0-SLT",
        "outputId": "909fcb0e-2b37-4114-d24f-50c393a80ee2"
      },
      "outputs": [
        {
          "name": "stdout",
          "output_type": "stream",
          "text": [
            "Época [1/6], Step [100/1500], Custo: 0.331, Acurácia: 80.09%\n",
            "Época [1/6], Step [200/1500], Custo: 0.108, Acurácia: 87.62%\n",
            "Época [1/6], Step [300/1500], Custo: 0.135, Acurácia: 90.57%\n",
            "Época [1/6], Step [400/1500], Custo: 0.032, Acurácia: 92.12%\n",
            "Época [1/6], Step [500/1500], Custo: 0.013, Acurácia: 93.04%\n",
            "Época [1/6], Step [600/1500], Custo: 0.022, Acurácia: 93.80%\n",
            "Época [1/6], Step [700/1500], Custo: 0.155, Acurácia: 94.29%\n",
            "Época [1/6], Step [800/1500], Custo: 0.009, Acurácia: 94.71%\n",
            "Época [1/6], Step [900/1500], Custo: 0.149, Acurácia: 95.06%\n",
            "Época [1/6], Step [1000/1500], Custo: 0.008, Acurácia: 95.34%\n",
            "Época [1/6], Step [1100/1500], Custo: 0.090, Acurácia: 95.56%\n",
            "Época [1/6], Step [1200/1500], Custo: 0.016, Acurácia: 95.78%\n",
            "Época [1/6], Step [1300/1500], Custo: 0.038, Acurácia: 95.96%\n",
            "Época [1/6], Step [1400/1500], Custo: 0.054, Acurácia: 96.08%\n",
            "Época [1/6], Step [1500/1500], Custo: 0.101, Acurácia: 96.24%\n",
            "Validação - Época [1/6], Custo: 0.053, Acurácia: 98.24%\n",
            "Época [2/6], Step [100/1500], Custo: 0.003, Acurácia: 98.59%\n",
            "Época [2/6], Step [200/1500], Custo: 0.038, Acurácia: 98.70%\n",
            "Época [2/6], Step [300/1500], Custo: 0.029, Acurácia: 98.68%\n",
            "Época [2/6], Step [400/1500], Custo: 0.007, Acurácia: 98.59%\n",
            "Época [2/6], Step [500/1500], Custo: 0.003, Acurácia: 98.70%\n",
            "Época [2/6], Step [600/1500], Custo: 0.105, Acurácia: 98.71%\n",
            "Época [2/6], Step [700/1500], Custo: 0.071, Acurácia: 98.68%\n",
            "Época [2/6], Step [800/1500], Custo: 0.003, Acurácia: 98.72%\n",
            "Época [2/6], Step [900/1500], Custo: 0.004, Acurácia: 98.71%\n",
            "Época [2/6], Step [1000/1500], Custo: 0.153, Acurácia: 98.69%\n",
            "Época [2/6], Step [1100/1500], Custo: 0.003, Acurácia: 98.64%\n",
            "Época [2/6], Step [1200/1500], Custo: 0.045, Acurácia: 98.65%\n",
            "Época [2/6], Step [1300/1500], Custo: 0.002, Acurácia: 98.69%\n",
            "Época [2/6], Step [1400/1500], Custo: 0.359, Acurácia: 98.69%\n",
            "Época [2/6], Step [1500/1500], Custo: 0.002, Acurácia: 98.65%\n",
            "Validação - Época [2/6], Custo: 0.042, Acurácia: 98.72%\n",
            "Época [3/6], Step [100/1500], Custo: 0.001, Acurácia: 99.09%\n",
            "Época [3/6], Step [200/1500], Custo: 0.033, Acurácia: 99.16%\n",
            "Época [3/6], Step [300/1500], Custo: 0.000, Acurácia: 99.11%\n",
            "Época [3/6], Step [400/1500], Custo: 0.111, Acurácia: 99.09%\n",
            "Época [3/6], Step [500/1500], Custo: 0.047, Acurácia: 99.08%\n",
            "Época [3/6], Step [600/1500], Custo: 0.000, Acurácia: 99.08%\n",
            "Época [3/6], Step [700/1500], Custo: 0.019, Acurácia: 99.11%\n",
            "Época [3/6], Step [800/1500], Custo: 0.011, Acurácia: 99.10%\n",
            "Época [3/6], Step [900/1500], Custo: 0.019, Acurácia: 99.12%\n",
            "Época [3/6], Step [1000/1500], Custo: 0.027, Acurácia: 99.09%\n",
            "Época [3/6], Step [1100/1500], Custo: 0.039, Acurácia: 99.08%\n",
            "Época [3/6], Step [1200/1500], Custo: 0.066, Acurácia: 99.10%\n",
            "Época [3/6], Step [1300/1500], Custo: 0.228, Acurácia: 99.09%\n",
            "Época [3/6], Step [1400/1500], Custo: 0.068, Acurácia: 99.07%\n",
            "Época [3/6], Step [1500/1500], Custo: 0.007, Acurácia: 99.06%\n",
            "Validação - Época [3/6], Custo: 0.044, Acurácia: 98.76%\n",
            "Época [4/6], Step [100/1500], Custo: 0.003, Acurácia: 99.41%\n",
            "Época [4/6], Step [200/1500], Custo: 0.041, Acurácia: 99.28%\n",
            "Época [4/6], Step [300/1500], Custo: 0.001, Acurácia: 99.24%\n",
            "Época [4/6], Step [400/1500], Custo: 0.143, Acurácia: 99.21%\n",
            "Época [4/6], Step [500/1500], Custo: 0.000, Acurácia: 99.27%\n",
            "Época [4/6], Step [600/1500], Custo: 0.001, Acurácia: 99.27%\n",
            "Época [4/6], Step [700/1500], Custo: 0.025, Acurácia: 99.28%\n",
            "Época [4/6], Step [800/1500], Custo: 0.002, Acurácia: 99.29%\n",
            "Época [4/6], Step [900/1500], Custo: 0.007, Acurácia: 99.30%\n",
            "Época [4/6], Step [1000/1500], Custo: 0.083, Acurácia: 99.29%\n",
            "Época [4/6], Step [1100/1500], Custo: 0.007, Acurácia: 99.30%\n",
            "Época [4/6], Step [1200/1500], Custo: 0.001, Acurácia: 99.28%\n",
            "Época [4/6], Step [1300/1500], Custo: 0.003, Acurácia: 99.27%\n",
            "Época [4/6], Step [1400/1500], Custo: 0.001, Acurácia: 99.25%\n",
            "Época [4/6], Step [1500/1500], Custo: 0.004, Acurácia: 99.25%\n",
            "Validação - Época [4/6], Custo: 0.043, Acurácia: 98.85%\n",
            "Época [5/6], Step [100/1500], Custo: 0.007, Acurácia: 99.66%\n",
            "Época [5/6], Step [200/1500], Custo: 0.002, Acurácia: 99.67%\n",
            "Época [5/6], Step [300/1500], Custo: 0.000, Acurácia: 99.74%\n",
            "Época [5/6], Step [400/1500], Custo: 0.000, Acurácia: 99.74%\n",
            "Época [5/6], Step [500/1500], Custo: 0.138, Acurácia: 99.69%\n",
            "Época [5/6], Step [600/1500], Custo: 0.013, Acurácia: 99.68%\n",
            "Época [5/6], Step [700/1500], Custo: 0.000, Acurácia: 99.66%\n",
            "Época [5/6], Step [800/1500], Custo: 0.000, Acurácia: 99.66%\n",
            "Época [5/6], Step [900/1500], Custo: 0.000, Acurácia: 99.64%\n",
            "Época [5/6], Step [1000/1500], Custo: 0.026, Acurácia: 99.61%\n",
            "Época [5/6], Step [1100/1500], Custo: 0.001, Acurácia: 99.61%\n",
            "Época [5/6], Step [1200/1500], Custo: 0.000, Acurácia: 99.58%\n",
            "Época [5/6], Step [1300/1500], Custo: 0.002, Acurácia: 99.57%\n",
            "Época [5/6], Step [1400/1500], Custo: 0.084, Acurácia: 99.58%\n",
            "Época [5/6], Step [1500/1500], Custo: 0.002, Acurácia: 99.56%\n",
            "Validação - Época [5/6], Custo: 0.057, Acurácia: 98.45%\n",
            "Época [6/6], Step [100/1500], Custo: 0.000, Acurácia: 99.59%\n",
            "Época [6/6], Step [200/1500], Custo: 0.001, Acurácia: 99.47%\n",
            "Época [6/6], Step [300/1500], Custo: 0.001, Acurácia: 99.51%\n",
            "Época [6/6], Step [400/1500], Custo: 0.000, Acurácia: 99.54%\n",
            "Época [6/6], Step [500/1500], Custo: 0.004, Acurácia: 99.50%\n",
            "Época [6/6], Step [600/1500], Custo: 0.000, Acurácia: 99.44%\n",
            "Época [6/6], Step [700/1500], Custo: 0.012, Acurácia: 99.44%\n",
            "Época [6/6], Step [800/1500], Custo: 0.000, Acurácia: 99.43%\n",
            "Época [6/6], Step [900/1500], Custo: 0.000, Acurácia: 99.44%\n",
            "Época [6/6], Step [1000/1500], Custo: 0.026, Acurácia: 99.45%\n",
            "Época [6/6], Step [1100/1500], Custo: 0.001, Acurácia: 99.47%\n",
            "Época [6/6], Step [1200/1500], Custo: 0.001, Acurácia: 99.47%\n",
            "Época [6/6], Step [1300/1500], Custo: 0.018, Acurácia: 99.46%\n",
            "Época [6/6], Step [1400/1500], Custo: 0.000, Acurácia: 99.44%\n",
            "Época [6/6], Step [1500/1500], Custo: 0.000, Acurácia: 99.45%\n",
            "Validação - Época [6/6], Custo: 0.044, Acurácia: 98.94%\n"
          ]
        }
      ],
      "source": [
        "# Quantos batches existem no train_loader\n",
        "total_step = len(train_loader)\n",
        "\n",
        "# Listas vazias para guardar métricas de treino e validação\n",
        "train_loss_list = []\n",
        "train_acc_list = []\n",
        "valid_loss_list = []\n",
        "valid_acc_list = []\n",
        "\n",
        "best_val_acc = 0  # variável auxiliar (se precisar salvar melhor modelo)\n",
        "\n",
        "# Mover o modelo para GPU (ex: \"cuda:0\") ou CPU, dependendo de `device`\n",
        "model.to(device)\n",
        "\n",
        "\n",
        "for epoch in range(epochs): # para cada época\n",
        "    # ------------------- Treino -------------------\n",
        "    model.train()  # modo de treino (ativa dropout, batchnorm, etc.)\n",
        "    train_loss = 0\n",
        "    correct = 0\n",
        "    total = 0\n",
        "\n",
        "    for i, (images, labels) in enumerate(train_loader):\n",
        "        # Mover os dados para GPU/CPU\n",
        "        images, labels = images.to(device), labels.to(device)\n",
        "\n",
        "        # Forward pass (propagação)\n",
        "        outputs = model(images)\n",
        "\n",
        "        # Calcula a função custo\n",
        "        loss = loss_fn(outputs, labels)\n",
        "\n",
        "        # Backprop + atualização dos pesos\n",
        "        optimizer.zero_grad()\n",
        "        loss.backward()\n",
        "        optimizer.step()\n",
        "\n",
        "        # Acumula loss e acurácia no treino\n",
        "        train_loss += loss.item() * images.size(0)\n",
        "        _, predicted = torch.max(outputs.data, 1)\n",
        "        total += labels.size(0)\n",
        "        correct += (predicted == labels).sum().item()\n",
        "\n",
        "        # Print a cada 100 batches\n",
        "        if (i + 1) % 100 == 0:\n",
        "            print(f\"Época [{epoch+1}/{epochs}], Step [{i+1}/{total_step}], \"\n",
        "                  f\"Custo: {loss.item():.3f}, \"\n",
        "                  f\"Acurácia: {(correct/total)*100:.2f}%\")\n",
        "\n",
        "    # Média de perda e acurácia de treino por época\n",
        "    train_loss /= len(train_loader.dataset)\n",
        "    train_acc = 100 * correct / total\n",
        "    train_loss_list.append(train_loss)\n",
        "    train_acc_list.append(train_acc)\n",
        "\n",
        "    # ------------------- Validação -------------------\n",
        "    model.eval()  # modo de avaliação (desativa dropout, batchnorm fixo)\n",
        "    val_loss = 0\n",
        "    correct = 0\n",
        "    total = 0\n",
        "\n",
        "    with torch.no_grad():  # não acumula gradientes na validação\n",
        "        for images, labels in val_loader:\n",
        "            # Mover os dados para GPU/CPU\n",
        "            images, labels = images.to(device), labels.to(device)\n",
        "\n",
        "            # Forward pass\n",
        "            outputs = model(images)\n",
        "\n",
        "            # Calcula função custo\n",
        "            loss = loss_fn(outputs, labels)\n",
        "\n",
        "            # Acumula loss e acurácia\n",
        "            val_loss += loss.item() * images.size(0)\n",
        "            _, predicted = torch.max(outputs.data, 1)\n",
        "            total += labels.size(0)\n",
        "            correct += (predicted == labels).sum().item()\n",
        "\n",
        "    # Média de perda e acurácia de validação por época\n",
        "    val_loss /= len(val_loader.dataset)\n",
        "    val_acc = 100 * correct / total\n",
        "    valid_loss_list.append(val_loss)\n",
        "    valid_acc_list.append(val_acc)\n",
        "\n",
        "    # Print resumo da época\n",
        "    print(f\"Validação - Época [{epoch+1}/{epochs}], \"\n",
        "          f\"Custo: {val_loss:.3f}, Acurácia: {val_acc:.2f}%\")"
      ]
    },
    {
      "cell_type": "code",
      "execution_count": 40,
      "metadata": {
        "colab": {
          "base_uri": "https://localhost:8080/",
          "height": 492
        },
        "id": "ACOHIZeyrgXF",
        "outputId": "6d9d7d03-bba4-4f7e-f6dd-8722d16f95f4"
      },
      "outputs": [
        {
          "data": {
            "image/png": "[encoded data removed]",
            "text/plain": [
              "<Figure size 1200x500 with 2 Axes>"
            ]
          },
          "metadata": {},
          "output_type": "display_data"
        }
      ],
      "source": [
        "import matplotlib.pyplot as plt\n",
        "# Plotando a perda de treino e validação\n",
        "plt.figure(figsize=(12, 5))\n",
        "plt.subplot(1, 2, 1)\n",
        "plt.plot(train_loss_list, label='Perda de Treino')\n",
        "plt.plot(valid_loss_list, label='Perda de Validação')\n",
        "plt.xlabel('Épocas')\n",
        "plt.ylabel('Perda')\n",
        "plt.legend()\n",
        "plt.title('Perda de Treino e Validação ao Longo das Épocas')\n",
        "plt.grid()\n",
        "plt.subplot(1, 2, 2)\n",
        "plt.plot(train_acc_list, label='Acurácia de Treino')\n",
        "plt.plot(valid_acc_list, label='Acurácia de Validação')\n",
        "plt.xlabel('Épocas')\n",
        "plt.ylabel('Acurácia (%)')\n",
        "plt.legend()\n",
        "plt.title('Acurácia de Treino e Validação ao Longo das Épocas')\n",
        "plt.grid()\n",
        "plt.show()"
      ]
    },
    {
      "cell_type": "code",
      "execution_count": 37,
      "metadata": {
        "colab": {
          "base_uri": "https://localhost:8080/"
        },
        "id": "qxUaqsWLV-nU",
        "outputId": "509f69e7-b3b2-489c-dbb6-b9dada95ad80"
      },
      "outputs": [
        {
          "name": "stdout",
          "output_type": "stream",
          "text": [
            "✔ Modelo salvo com acurácia de validação: 98.94%\n"
          ]
        }
      ],
      "source": [
        "if val_acc > best_val_acc:\n",
        "        best_val_acc = val_acc\n",
        "        checkpoint = {\n",
        "            'model_state_dict': model.state_dict(),\n",
        "            'optimizer_state_dict': optimizer.state_dict(),\n",
        "            'epoch': epoch,\n",
        "            'train_loss_list': train_loss_list,\n",
        "            'train_acc_list': train_acc_list,\n",
        "            'valid_loss_list': valid_loss_list,\n",
        "            'valid_acc_list': valid_acc_list\n",
        "        }\n",
        "        torch.save(checkpoint, 'best_model.pth')\n",
        "        print(f\"✔ Modelo salvo com acurácia de validação: {val_acc:.2f}%\")"
      ]
    },
    {
      "cell_type": "code",
      "execution_count": 44,
      "metadata": {
        "colab": {
          "base_uri": "https://localhost:8080/"
        },
        "id": "E7Y3HMT2WjLc",
        "outputId": "e3646057-f6c9-4f2e-a03d-96343367a2f0"
      },
      "outputs": [
        {
          "name": "stdout",
          "output_type": "stream",
          "text": [
            "Modelo carregado da época 6 com acurácia de validação de 98.94%\n"
          ]
        }
      ],
      "source": [
        "# Instancia o modelo novamente\n",
        "model = ConvNet()\n",
        "\n",
        "# Carrega o checkpoint salvo\n",
        "checkpoint = torch.load('best_model.pth')\n",
        "\n",
        "# Restaura os pesos do modelo\n",
        "model.load_state_dict(checkpoint['model_state_dict'])\n",
        "\n",
        "# Mover o modelo para GPU (ex: \"cuda:0\") ou CPU, dependendo de `device`\n",
        "model.to(device)\n",
        "\n",
        "# Instancia o otimizador novamente APÓS mover o modelo para o dispositivo\n",
        "optimizer = Adam(model.parameters(), lr=learning_rate)\n",
        "\n",
        "# Recupera a época e métricas\n",
        "start_epoch = checkpoint['epoch'] + 1\n",
        "train_loss_list = checkpoint['train_loss_list']\n",
        "train_acc_list = checkpoint['train_acc_list']\n",
        "valid_loss_list = checkpoint['valid_loss_list']\n",
        "valid_acc_list = checkpoint['valid_acc_list']\n",
        "best_val_acc = max(valid_acc_list)   # ou checkpoint salvo\n",
        "\n",
        "\n",
        "print(f\"Modelo carregado da época {checkpoint['epoch']+1} \"\n",
        "      f\"com acurácia de validação de {best_val_acc:.2f}%\")"
      ]
    },
    {
      "cell_type": "markdown",
      "metadata": {
        "id": "KminDyKMWjKa"
      },
      "source": [
        "## Se quiser continuar o treino apartir do melhor modelo\n"
      ]
    },
    {
      "cell_type": "code",
      "execution_count": 45,
      "metadata": {
        "colab": {
          "base_uri": "https://localhost:8080/"
        },
        "id": "89p-hN0KWimV",
        "outputId": "a61f027c-9985-4ab2-bea4-54baacf51c75"
      },
      "outputs": [
        {
          "name": "stdout",
          "output_type": "stream",
          "text": [
            "Época [7/10], Step [100/1500], Custo: 0.000, Acurácia: 99.84%\n",
            "Época [7/10], Step [200/1500], Custo: 0.000, Acurácia: 99.73%\n",
            "Época [7/10], Step [300/1500], Custo: 0.001, Acurácia: 99.70%\n",
            "Época [7/10], Step [400/1500], Custo: 0.000, Acurácia: 99.68%\n",
            "Época [7/10], Step [500/1500], Custo: 0.000, Acurácia: 99.65%\n",
            "Época [7/10], Step [600/1500], Custo: 0.004, Acurácia: 99.63%\n",
            "Época [7/10], Step [700/1500], Custo: 0.000, Acurácia: 99.59%\n",
            "Época [7/10], Step [800/1500], Custo: 0.000, Acurácia: 99.59%\n",
            "Época [7/10], Step [900/1500], Custo: 0.000, Acurácia: 99.59%\n",
            "Época [7/10], Step [1000/1500], Custo: 0.000, Acurácia: 99.59%\n",
            "Época [7/10], Step [1100/1500], Custo: 0.000, Acurácia: 99.60%\n",
            "Época [7/10], Step [1200/1500], Custo: 0.032, Acurácia: 99.60%\n",
            "Época [7/10], Step [1300/1500], Custo: 0.000, Acurácia: 99.59%\n",
            "Época [7/10], Step [1400/1500], Custo: 0.000, Acurácia: 99.58%\n",
            "Época [7/10], Step [1500/1500], Custo: 0.000, Acurácia: 99.59%\n",
            "Validação - Época [7/10], Custo: 0.058, Acurácia: 98.99%\n",
            "Época [8/10], Step [100/1500], Custo: 0.002, Acurácia: 99.78%\n",
            "Época [8/10], Step [200/1500], Custo: 0.000, Acurácia: 99.81%\n",
            "Época [8/10], Step [300/1500], Custo: 0.000, Acurácia: 99.75%\n",
            "Época [8/10], Step [400/1500], Custo: 0.000, Acurácia: 99.65%\n",
            "Época [8/10], Step [500/1500], Custo: 0.000, Acurácia: 99.59%\n",
            "Época [8/10], Step [600/1500], Custo: 0.001, Acurácia: 99.57%\n",
            "Época [8/10], Step [700/1500], Custo: 0.004, Acurácia: 99.58%\n",
            "Época [8/10], Step [800/1500], Custo: 0.001, Acurácia: 99.62%\n",
            "Época [8/10], Step [900/1500], Custo: 0.000, Acurácia: 99.60%\n",
            "Época [8/10], Step [1000/1500], Custo: 0.201, Acurácia: 99.56%\n",
            "Época [8/10], Step [1100/1500], Custo: 0.032, Acurácia: 99.55%\n",
            "Época [8/10], Step [1200/1500], Custo: 0.000, Acurácia: 99.56%\n",
            "Época [8/10], Step [1300/1500], Custo: 0.000, Acurácia: 99.56%\n",
            "Época [8/10], Step [1400/1500], Custo: 0.016, Acurácia: 99.58%\n",
            "Época [8/10], Step [1500/1500], Custo: 0.002, Acurácia: 99.59%\n",
            "Validação - Época [8/10], Custo: 0.063, Acurácia: 98.83%\n",
            "Época [9/10], Step [100/1500], Custo: 0.001, Acurácia: 99.56%\n",
            "Época [9/10], Step [200/1500], Custo: 0.000, Acurácia: 99.70%\n",
            "Época [9/10], Step [300/1500], Custo: 0.000, Acurácia: 99.73%\n",
            "Época [9/10], Step [400/1500], Custo: 0.001, Acurácia: 99.72%\n",
            "Época [9/10], Step [500/1500], Custo: 0.000, Acurácia: 99.71%\n",
            "Época [9/10], Step [600/1500], Custo: 0.000, Acurácia: 99.70%\n",
            "Época [9/10], Step [700/1500], Custo: 0.001, Acurácia: 99.67%\n",
            "Época [9/10], Step [800/1500], Custo: 0.124, Acurácia: 99.62%\n",
            "Época [9/10], Step [900/1500], Custo: 0.000, Acurácia: 99.62%\n",
            "Época [9/10], Step [1000/1500], Custo: 0.000, Acurácia: 99.64%\n",
            "Época [9/10], Step [1100/1500], Custo: 0.000, Acurácia: 99.63%\n",
            "Época [9/10], Step [1200/1500], Custo: 0.000, Acurácia: 99.62%\n",
            "Época [9/10], Step [1300/1500], Custo: 0.000, Acurácia: 99.63%\n",
            "Época [9/10], Step [1400/1500], Custo: 0.000, Acurácia: 99.64%\n",
            "Época [9/10], Step [1500/1500], Custo: 0.000, Acurácia: 99.64%\n",
            "Validação - Época [9/10], Custo: 0.063, Acurácia: 98.88%\n",
            "Época [10/10], Step [100/1500], Custo: 0.000, Acurácia: 99.81%\n",
            "Época [10/10], Step [200/1500], Custo: 0.000, Acurácia: 99.83%\n",
            "Época [10/10], Step [300/1500], Custo: 0.001, Acurácia: 99.76%\n",
            "Época [10/10], Step [400/1500], Custo: 0.023, Acurácia: 99.77%\n",
            "Época [10/10], Step [500/1500], Custo: 0.001, Acurácia: 99.78%\n",
            "Época [10/10], Step [600/1500], Custo: 0.000, Acurácia: 99.78%\n",
            "Época [10/10], Step [700/1500], Custo: 0.000, Acurácia: 99.79%\n",
            "Época [10/10], Step [800/1500], Custo: 0.000, Acurácia: 99.80%\n",
            "Época [10/10], Step [900/1500], Custo: 0.000, Acurácia: 99.79%\n",
            "Época [10/10], Step [1000/1500], Custo: 0.000, Acurácia: 99.79%\n",
            "Época [10/10], Step [1100/1500], Custo: 0.000, Acurácia: 99.75%\n",
            "Época [10/10], Step [1200/1500], Custo: 0.000, Acurácia: 99.73%\n",
            "Época [10/10], Step [1300/1500], Custo: 0.000, Acurácia: 99.72%\n",
            "Época [10/10], Step [1400/1500], Custo: 0.000, Acurácia: 99.73%\n",
            "Época [10/10], Step [1500/1500], Custo: 0.000, Acurácia: 99.73%\n",
            "Validação - Época [10/10], Custo: 0.089, Acurácia: 98.72%\n"
          ]
        }
      ],
      "source": [
        "total_epochs =10\n",
        "\n",
        "for epoch in range(start_epoch, total_epochs): # Se quiser treinar a partir de um modelo ja salvo/carregado\n",
        "    # ------------------- Treino -------------------\n",
        "    model.train()  # modo de treino (ativa dropout, batchnorm, etc.)\n",
        "    train_loss = 0\n",
        "    correct = 0\n",
        "    total = 0\n",
        "\n",
        "    for i, (images, labels) in enumerate(train_loader):\n",
        "        # Mover os dados para GPU/CPU\n",
        "        images, labels = images.to(device), labels.to(device)\n",
        "\n",
        "        # Forward pass (propagação)\n",
        "        outputs = model(images)\n",
        "\n",
        "        # Calcula a função custo\n",
        "        loss = loss_fn(outputs, labels)\n",
        "\n",
        "        # Backprop + atualização dos pesos\n",
        "        optimizer.zero_grad()\n",
        "        loss.backward()\n",
        "        optimizer.step()\n",
        "\n",
        "        # Acumula loss e acurácia no treino\n",
        "        train_loss += loss.item() * images.size(0)\n",
        "        _, predicted = torch.max(outputs.data, 1)\n",
        "        total += labels.size(0)\n",
        "        correct += (predicted == labels).sum().item()\n",
        "\n",
        "        # Print a cada 100 batches\n",
        "        if (i + 1) % 100 == 0:\n",
        "            print(f\"Época [{epoch+1}/{total_epochs}], Step [{i+1}/{total_step}], \"\n",
        "                  f\"Custo: {loss.item():.3f}, \"\n",
        "                  f\"Acurácia: {(correct/total)*100:.2f}%\")\n",
        "\n",
        "\n",
        "    # Média de perda e acurácia de treino por época\n",
        "    train_loss /= len(train_loader.dataset)\n",
        "    train_acc = 100 * correct / total\n",
        "    train_loss_list.append(train_loss)\n",
        "    train_acc_list.append(train_acc)\n",
        "\n",
        "    # ------------------- Validação -------------------\n",
        "    model.eval()  # modo de avaliação (desativa dropout, batchnorm fixo)\n",
        "    val_loss = 0\n",
        "    correct = 0\n",
        "    total = 0\n",
        "\n",
        "    with torch.no_grad():  # não acumula gradientes na validação\n",
        "        for images, labels in val_loader:\n",
        "            # Mover os dados para GPU/CPU\n",
        "            images, labels = images.to(device), labels.to(device)\n",
        "\n",
        "            # Forward pass\n",
        "            outputs = model(images)\n",
        "\n",
        "            # Calcula função custo\n",
        "            loss = loss_fn(outputs, labels)\n",
        "\n",
        "            # Acumula loss e acurácia\n",
        "            val_loss += loss.item() * images.size(0)\n",
        "            _, predicted = torch.max(outputs.data, 1)\n",
        "            total += labels.size(0)\n",
        "            correct += (predicted == labels).sum().item()\n",
        "\n",
        "    # Média de perda e acurácia de validação por época\n",
        "    val_loss /= len(val_loader.dataset)\n",
        "    val_acc = 100 * correct / total\n",
        "    valid_loss_list.append(val_loss)\n",
        "    valid_acc_list.append(val_acc)\n",
        "\n",
        "    # Print resumo da época\n",
        "    print(f\"Validação - Época [{epoch+1}/{total_epochs}], \"\n",
        "          f\"Custo: {val_loss:.3f}, Acurácia: {val_acc:.2f}%\")"
      ]
    },
    {
      "cell_type": "code",
      "execution_count": 46,
      "metadata": {
        "colab": {
          "base_uri": "https://localhost:8080/",
          "height": 492
        },
        "id": "JoZPh65PZuQU",
        "outputId": "7d6e639f-0d0a-4006-aaf9-3a1a4437fcc6"
      },
      "outputs": [
        {
          "data": {
            "image/png": "[encoded data removed]",
            "text/plain": [
              "<Figure size 1200x500 with 2 Axes>"
            ]
          },
          "metadata": {},
          "output_type": "display_data"
        }
      ],
      "source": [
        "import matplotlib.pyplot as plt\n",
        "# Plotando a perda de treino e validação\n",
        "plt.figure(figsize=(12, 5))\n",
        "plt.subplot(1, 2, 1)\n",
        "plt.plot(train_loss_list, label='Perda de Treino')\n",
        "plt.plot(valid_loss_list, label='Perda de Validação')\n",
        "plt.xlabel('Épocas')\n",
        "plt.ylabel('Perda')\n",
        "plt.legend()\n",
        "plt.title('Perda de Treino e Validação ao Longo das Épocas')\n",
        "plt.grid()\n",
        "plt.subplot(1, 2, 2)\n",
        "plt.plot(train_acc_list, label='Acurácia de Treino')\n",
        "plt.plot(valid_acc_list, label='Acurácia de Validação')\n",
        "plt.xlabel('Épocas')\n",
        "plt.ylabel('Acurácia (%)')\n",
        "plt.legend()\n",
        "plt.title('Acurácia de Treino e Validação ao Longo das Épocas')\n",
        "plt.grid()\n",
        "plt.show()"
      ]
    },
    {
      "cell_type": "markdown",
      "metadata": {
        "id": "Z4z2WwDy-SLU"
      },
      "source": [
        "### Acurácia do Modelo\n",
        "\n",
        "Usar o comando `model.eval()`\n",
        "\n",
        "Para a métrica acurácia, retorna um score de acurácia `float` entre $0$ e $1$"
      ]
    },
    {
      "cell_type": "code",
      "execution_count": 41,
      "metadata": {
        "colab": {
          "base_uri": "https://localhost:8080/"
        },
        "id": "MCOQf9po-SLX",
        "outputId": "071119ca-0def-47d2-e877-4cfc7e2bd30c"
      },
      "outputs": [
        {
          "name": "stdout",
          "output_type": "stream",
          "text": [
            "Acurácia do Modelo em 10k imagens de teste: 99.11\n"
          ]
        }
      ],
      "source": [
        "model.eval() # coloca o modelo em modo de avaliação (sem calcular gradientes)\n",
        "\n",
        "with torch.no_grad():\n",
        "    correct = 0\n",
        "    total = 0\n",
        "    for images, labels in test_loader:\n",
        "\n",
        "        images = images.to(device)\n",
        "        labels = labels.to(device)\n",
        "        # Feed-forward com as imagens de teste\n",
        "        outputs = model(images)\n",
        "\n",
        "        # gera predições usando a função max()\n",
        "        _, predicted = torch.max(outputs.data, 1)\n",
        "\n",
        "        # Acumula total e corretas\n",
        "        total += labels.size(0)\n",
        "        correct += (predicted == labels).sum().item()\n",
        "\n",
        "    print(f\"Acurácia do Modelo em 10k imagens de teste: {round((correct / total) * 100, 3)}\")"
      ]
    }
  ],
  "metadata": {
    "accelerator": "GPU",
    "celltoolbar": "Slideshow",
    "colab": {
      "gpuType": "T4",
      "provenance": []
    },
    "kernelspec": {
      "display_name": "Python 3",
      "name": "python3"
    },
    "language_info": {
      "codemirror_mode": {
        "name": "ipython",
        "version": 3
      },
      "file_extension": ".py",
      "mimetype": "text/x-python",
      "name": "python",
      "nbconvert_exporter": "python",
      "pygments_lexer": "ipython3",
      "version": "3.10.4"
    },
    "rise": {
      "autolaunch": true,
      "enable_chalkboard": true,
      "progress": true,
      "scroll": true,
      "slideNumber": true,
      "theme": "black"
    }
  },
  "nbformat": 4,
  "nbformat_minor": 0
}
